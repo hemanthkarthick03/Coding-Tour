{
 "cells": [
  {
   "cell_type": "code",
   "execution_count": 4,
   "metadata": {},
   "outputs": [
    {
     "name": "stdout",
     "output_type": "stream",
     "text": [
      "* * * * * \n",
      "* * * * * \n",
      "* * * * * \n",
      "* * * * * \n",
      "* * * * * \n"
     ]
    }
   ],
   "source": [
    "n = 5\n",
    "for i in range(n):\n",
    "    for j in range(n):\n",
    "        print('*', end=' ')\n",
    "    print()"
   ]
  },
  {
   "cell_type": "code",
   "execution_count": 12,
   "metadata": {},
   "outputs": [
    {
     "name": "stdout",
     "output_type": "stream",
     "text": [
      "* \n",
      "* * \n",
      "* * * \n",
      "* * * * \n",
      "* * * * * \n"
     ]
    }
   ],
   "source": [
    "n = 5\n",
    "# for i in range(n):\n",
    "#     for j in range(n-i-1,n):\n",
    "\n",
    "for i in range(n):\n",
    "    for j in range(0, i+1):\n",
    "        print('*', end=' ')\n",
    "    print()"
   ]
  },
  {
   "cell_type": "code",
   "execution_count": 13,
   "metadata": {},
   "outputs": [
    {
     "name": "stdout",
     "output_type": "stream",
     "text": [
      "* * * * * \n",
      "* * * * \n",
      "* * * \n",
      "* * \n",
      "* \n"
     ]
    }
   ],
   "source": [
    "n = 5\n",
    "\n",
    "for i in range(n):\n",
    "    for j in range(i,n):\n",
    "        print('*', end=' ')\n",
    "    print()"
   ]
  },
  {
   "cell_type": "code",
   "execution_count": 44,
   "metadata": {},
   "outputs": [
    {
     "name": "stdout",
     "output_type": "stream",
     "text": [
      "     *      \n",
      "    * *     \n",
      "   * * *    \n",
      "  * * * *   \n",
      " * * * * *  \n"
     ]
    }
   ],
   "source": [
    "n = 5\n",
    "\n",
    "for i in range(n):\n",
    "    for j in range(i,n):\n",
    "        print(' ', end='')\n",
    "    \n",
    "    for j in range(0,i+1):\n",
    "        print('* ', end='')\n",
    "\n",
    "    for i in range(i, n):\n",
    "        print(' ', end='')\n",
    "    \n",
    "    print()"
   ]
  },
  {
   "cell_type": "code",
   "execution_count": 51,
   "metadata": {},
   "outputs": [
    {
     "name": "stdout",
     "output_type": "stream",
     "text": [
      " * * * * *  \n",
      "  * * * *   \n",
      "   * * *    \n",
      "    * *     \n",
      "     *      \n"
     ]
    }
   ],
   "source": [
    "for i in range(n):\n",
    "    for j in range(0,i+1):\n",
    "        print(\" \", end=\"\")\n",
    "    \n",
    "    for j in range(i,n):\n",
    "        print(\"* \", end=\"\")\n",
    "    \n",
    "    for j in range(0,i+1):\n",
    "        print(\" \", end=\"\")\n",
    "    \n",
    "    print()"
   ]
  },
  {
   "cell_type": "code",
   "execution_count": 59,
   "metadata": {},
   "outputs": [
    {
     "name": "stdout",
     "output_type": "stream",
     "text": [
      "     *      \n",
      "    * *     \n",
      "   * * *    \n",
      "  * * * *   \n",
      " * * * * * \n",
      "  * * * *  \n",
      "   * * *   \n",
      "    * *    \n",
      "     *     \n"
     ]
    }
   ],
   "source": [
    "for i in range(n-1):\n",
    "    for j in range(i,n):\n",
    "        print(\" \", end=\"\")\n",
    "    \n",
    "    for j in range(0,i+1):\n",
    "        print(\"* \", end=\"\")\n",
    "\n",
    "    for j in range(i,n):\n",
    "        print(\" \", end='')\n",
    "    \n",
    "    print()\n",
    "\n",
    "for i in range(n):\n",
    "    for j in range(0,i+1):\n",
    "        print(\" \", end=\"\")\n",
    "\n",
    "    for j in range(i,n):\n",
    "        print(\"* \", end='')\n",
    "    \n",
    "    for j in range(0,i):\n",
    "        print(\" \", end='')\n",
    "\n",
    "    print()"
   ]
  },
  {
   "cell_type": "code",
   "execution_count": 74,
   "metadata": {},
   "outputs": [
    {
     "name": "stdout",
     "output_type": "stream",
     "text": [
      "* * * * * * * * * * \n",
      "* * * *     * * * * \n",
      "* * *         * * * \n",
      "* *             * * \n",
      "*                 * \n",
      "* *             * * \n",
      "* * *         * * * \n",
      "* * * *     * * * * \n",
      "* * * * * * * * * * \n"
     ]
    }
   ],
   "source": [
    "for i in range(n-1):\n",
    "    for j in range(i,n):\n",
    "        print(\"* \", end='')\n",
    "    \n",
    "    for j in range(0, i):\n",
    "        print(\"    \", end=\"\")\n",
    "\n",
    "    for j in range(i,n):\n",
    "        print('* ',end=\"\")\n",
    "\n",
    "    print()\n",
    "\n",
    "for i in range(n):\n",
    "    for j in range(0,i+1):\n",
    "        print('* ', end=\"\")\n",
    "    \n",
    "    for j in range(i,n-1):\n",
    "        print('    ', end='')\n",
    "\n",
    "    for j in range(0,i+1):\n",
    "        print('* ', end='')\n",
    "    \n",
    "    print()\n"
   ]
  },
  {
   "cell_type": "code",
   "execution_count": 76,
   "metadata": {},
   "outputs": [
    {
     "name": "stdout",
     "output_type": "stream",
     "text": [
      "\n",
      "1 \n",
      "2 3 \n",
      "4 5 6 \n",
      "7 8 9 10 \n",
      "11 12 13 14 15 \n"
     ]
    }
   ],
   "source": [
    "# Floyd's Triangle\n",
    "num = 1\n",
    "for i in range(n+1):\n",
    "    for j in range(i):\n",
    "        print(num, end=' ')\n",
    "        num += 1\n",
    "    print()"
   ]
  },
  {
   "cell_type": "code",
   "execution_count": 80,
   "metadata": {},
   "outputs": [
    {
     "name": "stdout",
     "output_type": "stream",
     "text": [
      "* * * * * \n",
      "*       * \n",
      "*       * \n",
      "*       * \n",
      "* * * * * \n"
     ]
    }
   ],
   "source": [
    "for i in range(n):\n",
    "    if (i == 0 or i == n-1):\n",
    "        for j in range(n):\n",
    "            print('* ', end='')\n",
    "    \n",
    "    else:\n",
    "        for j in range(n):\n",
    "            if (j==0 or j==n-1):\n",
    "                print('* ', end='')\n",
    "            else:\n",
    "                print('  ', end='')\n",
    "\n",
    "    print()"
   ]
  }
 ],
 "metadata": {
  "kernelspec": {
   "display_name": "Python 3",
   "language": "python",
   "name": "python3"
  },
  "language_info": {
   "codemirror_mode": {
    "name": "ipython",
    "version": 3
   },
   "file_extension": ".py",
   "mimetype": "text/x-python",
   "name": "python",
   "nbconvert_exporter": "python",
   "pygments_lexer": "ipython3",
   "version": "3.11.0"
  }
 },
 "nbformat": 4,
 "nbformat_minor": 2
}
